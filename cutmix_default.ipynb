{
 "cells": [
  {
   "cell_type": "code",
   "execution_count": 1,
   "metadata": {},
   "outputs": [],
   "source": [
    "# import libraries\n",
    "import numpy as np\n",
    "import cv2\n",
    "import os\n",
    "import matplotlib.pyplot as plt"
   ]
  },
  {
   "cell_type": "code",
   "execution_count": 2,
   "metadata": {},
   "outputs": [],
   "source": [
    "def show_images(images, titles=None):\n",
    "    plt.figure(figsize=(12, 6))\n",
    "    for i, image in enumerate(images):\n",
    "        plt.subplot(1, len(images), i+1)\n",
    "        plt.imshow(image)\n",
    "        if titles:\n",
    "            plt.title(titles[i])\n",
    "        plt.axis('off')\n",
    "    plt.show()"
   ]
  },
  {
   "cell_type": "code",
   "execution_count": 3,
   "metadata": {},
   "outputs": [],
   "source": [
    "def cutmix(image1, image2, alpha=0.2):\n",
    "    height, width, _ = image1.shape\n",
    "\n",
    "    # generate random bounding box\n",
    "    cut_rat = np.random.rand()\n",
    "    cut_w = int(width * cut_rat)\n",
    "    cut_h = int(height * cut_rat)\n",
    "\n",
    "    # Generate random center\n",
    "    cut_x = np.random.randint(width)\n",
    "    cut_y = np.random.randint(height)\n",
    "\n",
    "    # Bounding box coordinates\n",
    "    x1 = np.clip(cut_x - cut_w // 2, 0, width)\n",
    "    y1 = np.clip(cut_y - cut_h // 2, 0, height)\n",
    "    x2 = np.clip(cut_x + cut_w // 2, 0, width)\n",
    "    y2 = np.clip(cut_y + cut_h // 2, 0, height)\n",
    "\n",
    "    mixed_image = image1.copy()\n",
    "    mixed_image[y1:y2, x1:x2, :] = image2[y1:y2, x1:x2, :]\n",
    "\n",
    "    return mixed_image"
   ]
  },
  {
   "cell_type": "code",
   "execution_count": 4,
   "metadata": {},
   "outputs": [],
   "source": [
    "def save_cutmix_images(image1, image2, num_images, output_dir='cutmix_images'):\n",
    "    if not os.path.exists(output_dir):\n",
    "        os.makedirs(output_dir)\n",
    "\n",
    "    for i in range(num_images):\n",
    "        aug_image = cutmix(image1, image2)\n",
    "\n",
    "        cv2.imwrite(os.path.join(output_dir, f'cutmix_{i}.jpg'), cv2.cvtColor(aug_image, cv2.COLOR_BGR2RGB))"
   ]
  },
  {
   "cell_type": "code",
   "execution_count": null,
   "metadata": {},
   "outputs": [],
   "source": [
    "# load and show\n",
    "image1 = cv2.imread('image1.png')\n",
    "image2 = cv2.imread('image2.png')\n",
    "image1 = cv2.cvtColor(image1, cv2.COLOR_BGR2RGB)\n",
    "image2 = cv2.cvtColor(image2, cv2.COLOR_BGR2RGB)\n",
    "\n",
    "cutmix_image = cutmix(image1, image2)\n",
    "\n",
    "show_images([image1, image2, cutmix_image], titles=['Image 1', 'Image 2', 'Cutmix'])\n",
    "\n",
    "save_cutmix_images(image1, image2, num_images=2)"
   ]
  }
 ],
 "metadata": {
  "kernelspec": {
   "display_name": "tku_cutmix",
   "language": "python",
   "name": "python3"
  },
  "language_info": {
   "codemirror_mode": {
    "name": "ipython",
    "version": 3
   },
   "file_extension": ".py",
   "mimetype": "text/x-python",
   "name": "python",
   "nbconvert_exporter": "python",
   "pygments_lexer": "ipython3",
   "version": "3.8.19"
  }
 },
 "nbformat": 4,
 "nbformat_minor": 2
}
