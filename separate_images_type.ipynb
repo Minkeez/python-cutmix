{
 "cells": [
  {
   "cell_type": "code",
   "execution_count": 22,
   "metadata": {},
   "outputs": [],
   "source": [
    "import os\n",
    "import shutil\n",
    "import random"
   ]
  },
  {
   "cell_type": "code",
   "execution_count": 23,
   "metadata": {},
   "outputs": [],
   "source": [
    "def create_dir_structure(output_path):\n",
    "    \"\"\"\n",
    "    Creates the required directory structure.\n",
    "    \"\"\"\n",
    "    dirs = [\n",
    "        os.path.join(output_path, 'images/train'),\n",
    "        os.path.join(output_path, 'images/val'),\n",
    "        os.path.join(output_path, 'labels/train'),\n",
    "        os.path.join(output_path, 'labels/val')\n",
    "    ]\n",
    "\n",
    "    for dir_path in dirs:\n",
    "        os.makedirs(dir_path, exist_ok=True)"
   ]
  },
  {
   "cell_type": "code",
   "execution_count": 24,
   "metadata": {},
   "outputs": [],
   "source": [
    "def get_file_pairs(base_path):\n",
    "    \"\"\"\n",
    "    Gets the pairs of image and label files\n",
    "    \"\"\"\n",
    "    files = os.listdir(base_path)\n",
    "    image_files = [f for f in files if f.endswith(('.png', 'jpg', '.jpeg'))]\n",
    "    label_files = [f for f in files if f.endswith('.txt')]\n",
    "\n",
    "    image_label_pairs = []\n",
    "    for img_file in image_files:\n",
    "        label_file = img_file.rsplit('.', 1)[0] + '.txt'\n",
    "        if label_file in label_files:\n",
    "            image_label_pairs.append((img_file, label_file))\n",
    "\n",
    "    return image_label_pairs"
   ]
  },
  {
   "cell_type": "code",
   "execution_count": 25,
   "metadata": {},
   "outputs": [],
   "source": [
    "def split_data(image_label_pairs, train_ratio=0.8):\n",
    "    \"\"\"\n",
    "    Splits the data into training and validation sets\n",
    "    \"\"\"\n",
    "    random.shuffle(image_label_pairs)\n",
    "    split_index = int(len(image_label_pairs) * train_ratio)\n",
    "    train_pairs = image_label_pairs[:split_index]\n",
    "    val_pairs = image_label_pairs[split_index:]\n",
    "\n",
    "    return train_pairs, val_pairs"
   ]
  },
  {
   "cell_type": "code",
   "execution_count": 26,
   "metadata": {},
   "outputs": [],
   "source": [
    "def copy_files(pairs, base_path, output_path, dataset_type):\n",
    "    \"\"\"\n",
    "    Copies the files to the appropriate directories\n",
    "    \"\"\"\n",
    "    for img_file, lbl_file in pairs:\n",
    "        shutil.copy(os.path.join(base_path, img_file), os.path.join(output_path, f'images/{dataset_type}', img_file))\n",
    "        shutil.copy(os.path.join(base_path, lbl_file), os.path.join(output_path, f'labels/{dataset_type}', lbl_file))"
   ]
  },
  {
   "cell_type": "code",
   "execution_count": 27,
   "metadata": {},
   "outputs": [],
   "source": [
    "base_path = 'raw_dataset'\n",
    "output_path = 'my_data'\n",
    "create_dir_structure(output_path)\n",
    "\n",
    "image_label_pairs = get_file_pairs(base_path)\n",
    "train_pairs, val_pairs = split_data(image_label_pairs)\n",
    "\n",
    "copy_files(train_pairs, base_path, output_path, 'train')\n",
    "copy_files(val_pairs, base_path, output_path, 'val')"
   ]
  }
 ],
 "metadata": {
  "kernelspec": {
   "display_name": "tku_cutmix",
   "language": "python",
   "name": "python3"
  },
  "language_info": {
   "codemirror_mode": {
    "name": "ipython",
    "version": 3
   },
   "file_extension": ".py",
   "mimetype": "text/x-python",
   "name": "python",
   "nbconvert_exporter": "python",
   "pygments_lexer": "ipython3",
   "version": "3.8.19"
  }
 },
 "nbformat": 4,
 "nbformat_minor": 2
}
